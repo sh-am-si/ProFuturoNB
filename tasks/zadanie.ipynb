{
 "metadata": {
  "language_info": {
   "codemirror_mode": {
    "name": "ipython",
    "version": 3
   },
   "file_extension": ".py",
   "mimetype": "text/x-python",
   "name": "python",
   "nbconvert_exporter": "python",
   "pygments_lexer": "ipython3",
   "version": "3.8.5-final"
  },
  "orig_nbformat": 2,
  "kernelspec": {
   "name": "python38564bit2b45c94aa5ec47fb90d0a47f6b9feed6",
   "display_name": "Python 3.8.5 64-bit",
   "language": "python"
  }
 },
 "nbformat": 4,
 "nbformat_minor": 2,
 "cells": [
  {
   "source": [
    "\n",
    "Przykład\n",
    "\n",
    "'$$\n",
    "\\begin{figure}[h!]\n",
    "\\includegraphics{pics/graph_mult_1.png}\n",
    "\\end{figure}\n",
    "$$'\n",
    "\n",
    "<img src=\"pics/graph_mult_1.png\">\n",
    "\n",
    "Zrobić $$\\Large y = x\\cos(x)$$\n",
    "\n",
    "<img src=\"pics/graph_mult_2.png\">\n",
    "\n",
    "Przykład\n",
    "\n",
    "<img src=\"pics/graph_mult_3.png\">\n",
    "\n",
    "Zrobić $$\\Large y = x(x-2)$$\n",
    "\n",
    "<img src=\"pics/graph_mult_4.png\">\n",
    "\n",
    "Przykład\n",
    "\n",
    "<img src=\"pics/graph_mult_5.png\">\n",
    "\n",
    "Zrobić $$\\Large y = (x+2) x (x-2)$$\n",
    "\n",
    "<img src=\"pics/graph_mult_6.png\">\n"
   ],
   "cell_type": "markdown",
   "metadata": {}
  }
 ]
}