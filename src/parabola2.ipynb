{
 "cells": [
  {
   "cell_type": "code",
   "execution_count": null,
   "metadata": {},
   "outputs": [],
   "source": [
    "import matplotlib\n",
    "import numpy as np\n",
    "import matplotlib.pyplot as plt\n",
    "%matplotlib inline  \n",
    "\n",
    "import pandas as pd\n",
    "import codecs"
   ]
  },
  {
   "cell_type": "markdown",
   "metadata": {},
   "source": [
    "# Parabola"
   ]
  },
  {
   "cell_type": "code",
   "execution_count": null,
   "metadata": {},
   "outputs": [],
   "source": [
    "xmin, xmax= -1, 3\n",
    "a, b, c = -1, 1, -1\n",
    "\n",
    "x = np.linspace(xmin, xmax)\n",
    "y = a* x**2 + b*x + c\n",
    "ymin, ymax = np.min(y), np.max([1,np.max(y)])\n",
    "\n",
    "xticks = np.arange(int(xmin), int(xmax)+1)\n",
    "yticks = np.arange(int(ymin), int(ymax)+1)\n",
    "\n",
    "fig = plt.figure(figsize=(8,4))\n",
    "ax = fig.gca()\n",
    "\n",
    "for xt in xticks:\n",
    "    ax.axvline(x=xt, ymin=ymin, ymax=ymax, lw=1, ls='-.' if xt != 0 else '-', color='k'  if xt == 0 else 'lightgrey')\n",
    "\n",
    "for yt in yticks:\n",
    "    ax.axhline(y=yt, lw=1, ls='-.' if yt != 0 else '-', color='k' if yt == 0 else 'lightgrey')\n",
    "\n",
    "    \n",
    "\n",
    "\n",
    "ax.plot(x, y, c='g', lw=2, label=f\"$y={a}x^2+{b}x+{c}$\")\n",
    "\n",
    "# plt.scatter(dots, dots**2, c='r', s=7)\n",
    "\n",
    "\n",
    "ax.legend()\n",
    "plt.savefig('./pics/parabola4.png')\n",
    "plt.show()"
   ]
  },
  {
   "cell_type": "markdown",
   "metadata": {},
   "source": [
    "$y=x^2$\n",
    "\n",
    "$y = -x$\n",
    "\n",
    "$y = x^2 - x$"
   ]
  },
  {
   "cell_type": "code",
   "execution_count": null,
   "metadata": {},
   "outputs": [],
   "source": [
    "t = pd.DataFrame({'x': np.linspace(0,1,11), '$f(x)=x^2$': np.linspace(0,1,11)**2})\n",
    "t = t.set_index('x')"
   ]
  },
  {
   "cell_type": "code",
   "execution_count": null,
   "metadata": {},
   "outputs": [],
   "source": [
    "t\n"
   ]
  },
  {
   "cell_type": "code",
   "execution_count": null,
   "metadata": {},
   "outputs": [],
   "source": [
    "st = t.to_latex().replace('\\n', ' ').replace('\\\\\\\\', r\"\\ \")\n",
    "st"
   ]
  },
  {
   "cell_type": "markdown",
   "metadata": {},
   "source": [
    "\\\\begin{tabular}{lrr}\\n\\\\toprule\\n{} &    x &  \\\\$f(x)=x\\\\textasciicircum 2\\\\$ \\\\\\\\\\n\\\\midrule\\n0  &  0.0 &        0.00 \\\\\\\\\\n1  &  0.1 &        0.01 \\\\\\\\\\n2  &  0.2 &        0.04 \\\\\\\\\\n3  &  0.3 &        0.09 \\\\\\\\\\n4  &  0.4 &        0.16 \\\\\\\\\\n5  &  0.5 &        0.25 \\\\\\\\\\n6  &  0.6 &        0.36 \\\\\\\\\\n7  &  0.7 &        0.49 \\\\\\\\\\n8  &  0.8 &        0.64 \\\\\\\\\\n9  &  0.9 &        0.81 \\\\\\\\\\n10 &  1.0 &        1.00 \\\\\\\\\\n\\\\bottomrule\\n\\\\end{tabular}\\n"
   ]
  },
  {
   "cell_type": "code",
   "execution_count": null,
   "metadata": {},
   "outputs": [],
   "source": [
    "codecs.decode(st, 'unicode')"
   ]
  },
  {
   "cell_type": "code",
   "execution_count": null,
   "metadata": {},
   "outputs": [],
   "source": []
  }
 ],
 "metadata": {
  "kernelspec": {
   "display_name": "Python 3",
   "language": "python",
   "name": "python3"
  },
  "language_info": {
   "codemirror_mode": {
    "name": "ipython",
    "version": 3
   },
   "file_extension": ".py",
   "mimetype": "text/x-python",
   "name": "python",
   "nbconvert_exporter": "python",
   "pygments_lexer": "ipython3",
   "version": "3.8.5-final"
  }
 },
 "nbformat": 4,
 "nbformat_minor": 4
}
