{
 "cells": [
  {
   "cell_type": "code",
   "execution_count": null,
   "metadata": {},
   "outputs": [],
   "source": [
    "import matplotlib\n",
    "import numpy as np\n",
    "import matplotlib.pyplot as plt\n",
    "import matplotlib as mpl\n",
    "%matplotlib inline  \n",
    "\n",
    "label_size = 16\n",
    "mpl.rcParams['xtick.labelsize'] = label_size \n",
    "mpl.rcParams['ytick.labelsize'] = label_size \n",
    "mpl.rcParams['legend.fontsize'] = 'x-large'"
   ]
  },
  {
   "cell_type": "markdown",
   "metadata": {},
   "source": [
    "# Parabola"
   ]
  },
  {
   "cell_type": "code",
   "execution_count": null,
   "metadata": {},
   "outputs": [],
   "source": [
    "xmin, xmax= -1, 5\n",
    "a, b, c = 1, 0, 0\n",
    "\n",
    "x = np.linspace(xmin, xmax)\n",
    "\n",
    "y = a * x**2 + b * x + c \n",
    "y = x**2 - 4*x +3\n",
    "ymin, ymax = np.min(y), np.max(y)\n",
    "\n",
    "# plt.axvline(x=0, ymin=ymin, ymax=ymax, lw=1, color='k')\n",
    "# plt.axhline(y=0, xmin=xmin, xmax=xmax, lw=1, color='k')\n",
    "\n",
    "xticks = np.arange(int(xmin), int(xmax)+1)\n",
    "yticks = np.arange(int(ymin), int(ymax)+1)\n",
    "\n",
    "fig = plt.figure(figsize=(12, 12))\n",
    "ax = fig.gca()\n",
    "\n",
    "for xt in xticks:\n",
    "    ax.axvline(x=xt, ymin=ymin, ymax=ymax, lw=1, ls='-.' if xt != 0 else '-', color='k'  if xt == 0 else 'lightgrey')\n",
    "\n",
    "for yt in yticks:\n",
    "    ax.axhline(y=yt, lw=1, ls='-.' if yt != 0 else '-', color='k' if yt == 0 else 'lightgrey')\n",
    "\n",
    "\n",
    "ax.set_xticks(ticks=xticks)\n",
    "ax.set_yticks(ticks=yticks)\n",
    "\n",
    "ax.plot(x, y, c='g', label=f\"$y = (x-3)\\cdot(x-1)$\")\n",
    "ax.plot(x, x-3, c='r', label=f\"y=x-3\")\n",
    "ax.plot(x, x-1, c='b', label=f\"y=x-1\")\n",
    "\n",
    "ax.legend()\n",
    "\n",
    "plt.savefig('./pics/graph_mult_3.png')\n",
    "plt.show()"
   ]
  },
  {
   "cell_type": "markdown",
   "metadata": {},
   "source": [
    "$y=x^2$\n",
    "\n",
    "$y = -x$\n",
    "\n",
    "$y = x^2 - x$"
   ]
  },
  {
   "cell_type": "code",
   "execution_count": null,
   "metadata": {},
   "outputs": [],
   "source": [
    "xmin, xmax= -22, 22\n",
    "x = np.linspace(xmin, xmax, 10**5)\n",
    "\n",
    "y = a * x**2 + b * x + c \n",
    "y = x* np.sin(x)/5\n",
    "\n",
    "ymin, ymax = np.min(y)-1, np.max(y)+1\n",
    "xticks = np.arange(int(xmin), int(xmax)+1)\n",
    "yticks = np.arange(int(ymin), int(ymax)+1)\n",
    "fig = plt.figure(figsize=(12, 12))\n",
    "ax = fig.gca()\n",
    "for xt in xticks:\n",
    "    ax.axvline(x=xt, ymin=ymin, ymax=ymax, lw=1, ls='-.' if xt != 0 else '-', color='k'  if xt == 0 else 'lightgrey')\n",
    "for yt in yticks:\n",
    "    ax.axhline(y=yt, lw=1, ls='-.' if yt != 0 else '-', color='k' if yt == 0 else 'lightgrey')\n",
    "ax.set_xticks(ticks=xticks)\n",
    "ax.set_yticks(ticks=yticks)\n",
    "ax.plot(x, y, c='g', label=f\"$y=x\\sin(x)/5$\")\n",
    "ax.plot(x, np.sin(x), c='r', label=f\"$y=\\sin(x)$\")\n",
    "ax.plot(x, x/5, c='b', label=f\"$y=x/5$\")\n",
    "ax.plot(x, -x/5, c='b', ls='-.', label=f\"$y=x/5$\")\n",
    "\n",
    "ax.legend()\n",
    "\n",
    "plt.savefig('./pics/graph_mult_1.png')\n",
    "plt.show()"
   ]
  },
  {
   "cell_type": "code",
   "execution_count": null,
   "metadata": {},
   "outputs": [],
   "source": [
    "xmin, xmax= -22, 22\n",
    "x = np.linspace(xmin, xmax, 10**5)\n",
    "\n",
    "y = a * x**2 + b * x + c \n",
    "y = x* np.cos(x)\n",
    "\n",
    "ymin, ymax = np.min(y)-1, np.max(y)+1\n",
    "xticks = np.arange(int(xmin), int(xmax)+1)\n",
    "yticks = np.arange(int(ymin), int(ymax)+1)\n",
    "fig = plt.figure(figsize=(12, 12))\n",
    "ax = fig.gca()\n",
    "for xt in xticks:\n",
    "    ax.axvline(x=xt, ymin=ymin, ymax=ymax, lw=1, ls='-.' if xt != 0 else '-', color='k'  if xt == 0 else 'lightgrey')\n",
    "for yt in yticks:\n",
    "    ax.axhline(y=yt, lw=1, ls='-.' if yt != 0 else '-', color='k' if yt == 0 else 'lightgrey')\n",
    "ax.set_xticks(ticks=xticks)\n",
    "ax.set_yticks(ticks=yticks)\n",
    "# ax.plot(x, y, c='g', label=f\"$y=x\\sin(x)/5$\")\n",
    "ax.plot(x, np.cos(x), c='r', label=f\"$y=\\cos(x)$\")\n",
    "ax.plot(x, x, c='b', label=f\"$y=x$\")\n",
    "ax.plot(x, -x, c='b', ls='-.', label=f\"$y=-x$\")\n",
    "\n",
    "ax.legend()\n",
    "\n",
    "plt.savefig('./pics/graph_mult_2.png')\n",
    "plt.show()"
   ]
  },
  {
   "cell_type": "markdown",
   "metadata": {},
   "source": [
    "\n",
    "$$\n",
    "\\Large\n",
    "y=x\\cos(x)\n",
    "$$"
   ]
  },
  {
   "cell_type": "code",
   "execution_count": null,
   "metadata": {},
   "outputs": [],
   "source": [
    "xmin, xmax= -6, 8\n",
    "x = np.linspace(xmin, xmax, 10**6)\n",
    "\n",
    "y = a * x**2 + b * x + c \n",
    "\n",
    "def f(_x):\n",
    "\n",
    "    if _x< -2 : return -2 * _x + 2\n",
    "    elif _x < 4: return np.abs(_x)\n",
    "    else:  return 3\n",
    "\n",
    "y = np.vectorize(f)(x)\n",
    "\n",
    "print(x)\n",
    "print(y)\n",
    "\n",
    "ymin, ymax = np.min(y)-1, np.max(y)+1\n",
    "xticks = np.arange(int(xmin), int(xmax)+1)\n",
    "yticks = np.arange(int(ymin), int(ymax)+1)\n",
    "fig = plt.figure(figsize=(12, 12))\n",
    "ax = fig.gca()\n",
    "for xt in xticks:\n",
    "    ax.axvline(x=xt, ymin=ymin, ymax=ymax, lw=1, ls='-.' if xt != 0 else '-', color='k'  if xt == 0 else 'lightgrey')\n",
    "for yt in yticks:\n",
    "    ax.axhline(y=yt, lw=1, ls='-.' if yt != 0 else '-', color='k' if yt == 0 else 'lightgrey')\n",
    "ax.set_xticks(ticks=xticks)\n",
    "ax.set_yticks(ticks=yticks)\n",
    "# ax.plot(x, y, c='g', label=f\"$y=x\\sin(x)/5$\")\n",
    "ax.plot(x, y, c='r', label=f\"\")\n",
    "# ax.plot(x, x, c='b', label=f\"$y=x$\")\n",
    "# ax.plot(x, -x, c='b', ls='-.', label=f\"$y=-x$\")\n",
    "\n",
    "ax.legend()\n",
    "\n",
    "# plt.savefig('./pics/wielomian4.png')\n",
    "plt.show()"
   ]
  },
  {
   "cell_type": "code",
   "execution_count": null,
   "metadata": {},
   "outputs": [],
   "source": []
  }
 ],
 "metadata": {
  "kernelspec": {
   "display_name": "Python 3",
   "language": "python",
   "name": "python3"
  },
  "language_info": {
   "codemirror_mode": {
    "name": "ipython",
    "version": 3
   },
   "file_extension": ".py",
   "mimetype": "text/x-python",
   "name": "python",
   "nbconvert_exporter": "python",
   "pygments_lexer": "ipython3",
   "version": "3.8.5-final"
  }
 },
 "nbformat": 4,
 "nbformat_minor": 4
}
