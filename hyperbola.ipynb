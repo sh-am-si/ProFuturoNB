{
 "cells": [
  {
   "cell_type": "code",
   "execution_count": null,
   "metadata": {},
   "outputs": [],
   "source": [
    "import matplotlib\n",
    "import numpy as np\n",
    "import matplotlib.pyplot as plt\n",
    "%matplotlib inline  "
   ]
  },
  {
   "cell_type": "markdown",
   "metadata": {},
   "source": [
    "# Hyperbola"
   ]
  },
  {
   "cell_type": "code",
   "execution_count": null,
   "metadata": {},
   "outputs": [],
   "source": [
    "xmin, xmax= -6, 6\n",
    "\n",
    "x = np.linspace(xmin-0.0002, xmax+0.0000017, 1000)\n",
    "\n",
    "tol = 12\n",
    "ymin, ymax = -tol, tol\n",
    "\n",
    "# plt.axvline(x=0, ymin=ymin, ymax=ymax, lw=1, color='k')\n",
    "# plt.axhline(y=0, xmin=xmin, xmax=xmax, lw=1, color='k')\n",
    "\n",
    "xticks = np.arange(int(xmin), int(xmax)+1)\n",
    "yticks = np.arange(int(ymin), int(ymax)+1)\n",
    "\n",
    "\n",
    "y = []\n",
    "y.append((1/x, \"$y=\\\\frac{1}{x}$\"))\n",
    "y.append((2/x, \"$y=\\\\frac{2}{x}$\"))\n",
    "y.append((2/(x) - 4, \"$y=\\\\frac{2}{x} - 4$\"))\n",
    "y.append((np.abs(2/(x) - 4), \"$y=\\|\\\\frac{2}{x} - 4\\|$\"))\n",
    "\n",
    "\n",
    "for _y in y:\n",
    "    t = _y[0]\n",
    "    t[(t<-tol) + (t> tol)] = np.nan\n",
    "\n",
    "for i in range(len(y)-1):\n",
    "\n",
    "    fig = plt.figure()\n",
    "    ax = fig.gca()\n",
    "\n",
    "    for xt in xticks:\n",
    "        ax.axvline(x=xt, ymin=ymin, ymax=ymax, lw=1, ls='-.' if xt != 0 else '-', color='k'  if xt == 0 else 'lightgrey')\n",
    "\n",
    "    for yt in yticks:\n",
    "        ax.axhline(y=yt, lw=1, ls='-.' if yt != 0 else '-', color='k' if yt == 0 else 'lightgrey')\n",
    "\n",
    "    ax.set_xticks(ticks=xticks)\n",
    "    ax.set_yticks(ticks=yticks)\n",
    "\n",
    "    plt.ylim(-8,8)\n",
    "\n",
    "    ax.plot(x, y[i][0], label=y[i][1])\n",
    "    ax.plot(x, y[i+1][0], label=y[i+1][1])\n",
    "    # plt.plot(x, y[i+1][0], label=y[i+1][1])\n",
    "    ax.legend()\n",
    "    plt.draw()\n",
    "    \n",
    "    plt.savefig(f'pics/hyperbola_{i}.png')\n",
    "\n",
    "plt.show()"
   ]
  },
  {
   "cell_type": "markdown",
   "metadata": {},
   "source": [
    "$y=x^2$\n",
    "\n",
    "$y = -x$\n",
    "\n",
    "$y = x^2 - x$"
   ]
  },
  {
   "cell_type": "code",
   "execution_count": null,
   "metadata": {},
   "outputs": [],
   "source": []
  }
 ],
 "metadata": {
  "kernelspec": {
   "display_name": "Python 3",
   "language": "python",
   "name": "python3"
  },
  "language_info": {
   "codemirror_mode": {
    "name": "ipython",
    "version": 3
   },
   "file_extension": ".py",
   "mimetype": "text/x-python",
   "name": "python",
   "nbconvert_exporter": "python",
   "pygments_lexer": "ipython3",
   "version": "3.8.5-final"
  }
 },
 "nbformat": 4,
 "nbformat_minor": 4
}
